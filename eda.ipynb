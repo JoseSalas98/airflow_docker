{
 "cells": [
  {
   "cell_type": "markdown",
   "metadata": {},
   "source": [
    "<div id='id1' > </div>\n",
    "\n",
    "<head>\n",
    "     <meta http-equiv=\"Content-Type\"content=\"text/html\"charset=\"utf-8\">\n",
    "     <link href=\"./css_estilos/estilo_01.css\"rel=\"stylesheet\"type=\"text/css\"> \n",
    "</head>\n",
    "<body>\n",
    "     <img src=\"./css_estilos/JSLogoFondoClaro.png\" style=\"float: right\" width=\"250\" height=\"230\">\n",
    "     <h1> <b> Generalidades: </b> <br> Análisis Exploratorio de Datos</h1>\n",
    "     <p> Los archivos fuentes utilizados en el proyecto fueron recuperados de la base de datos suministrada por el Consejo Nacional de Calidad de la Educación (<b>CNCE</b>): <p>\n",
    "     <ul>\n",
    "          <li> <b> <p> \n",
    "          Facultad Latinoamericana de Ciencias Sociales (FLACSO)\n",
    "          </b>. </p> </li>\n",
    "          <li> <b> <p> \n",
    "          Universidad Argentina John Fitzgerald Kennedy (UK)\n",
    "          </b>. </p> </li>\n",
    "          </b> </p> </li>\n",
    "     </ul> \n",
    "</body>"
   ]
  },
  {
   "cell_type": "markdown",
   "metadata": {},
   "source": [
    "---"
   ]
  },
  {
   "cell_type": "markdown",
   "metadata": {},
   "source": [
    "<div id='id2' > </div>\n",
    "\n",
    "<head>\n",
    "     <meta http-equiv=\"Content-Type\"content=\"text/html\"charset=\"utf-8\">\n",
    "     <link href=\"./css_estilos/estilo_01.css\"rel=\"stylesheet\"type=\"text/css\"> \n",
    "</head>\n",
    "<body>\n",
    "     <h1> <b> Características Preliminares de las Fuentes de Datos </b> <br> </h1>\n",
    "     <p>\n",
    "     Los datasets disponibles corresponden ha información compartida por el CNCE de más de 15\n",
    "     universidades y centros educativos con gran volumen de datos sensibles sobre las\n",
    "     inscripciones de alumnos.<br>\n",
    "     <br>\n",
    "     Se deben aplicar las siguientes transformaciones a los features indicados correspondientes a cada dataframe.\n",
    "          <ul>\n",
    "          <li> <b> <p> \n",
    "          career\n",
    "          </b>: str minúsculas, sin espacios extras, ni guiones. </p> </li>\n",
    "          <li> <b> <p> \n",
    "          inscription_date\n",
    "          </b>: str %Y-%m-%d format. </p> </li>\n",
    "          <li> <b> <p> \n",
    "          first_name\n",
    "          </b>: str minúscula y sin espacios, ni guiones. </p> </li>\n",
    "          <li> <b> <p> \n",
    "          last_name\n",
    "          </b>: str minúscula y sin espacios, ni guiones. </p> </li>\n",
    "          <li> <b> <p> \n",
    "          gender\n",
    "          </b>: str choice(male, female). </p> </li>\n",
    "          <li> <b> <p> \n",
    "          age\n",
    "          </b>: int. </p> </li>\n",
    "          <li> <b> <p> \n",
    "          postal_code\n",
    "          </b>: str. </p> </li>\n",
    "          <li> <b> <p> \n",
    "          location\n",
    "          </b>: str minúscula sin espacios extras, ni guiones. </p> </li>\n",
    "          <li> <b> <p> \n",
    "          email\n",
    "          </b>: str minúsculas, sin espacios extras, ni guiones. </p> </li>\n",
    "          <li> <b> <p> \n",
    "          career\n",
    "          </b>: str minúsculas, sin espacios extras, ni guiones. </p> </li>\n",
    "          </ul>\n",
    "     </p>\n",
    "</body>"
   ]
  },
  {
   "cell_type": "markdown",
   "metadata": {},
   "source": [
    "---"
   ]
  },
  {
   "cell_type": "markdown",
   "metadata": {},
   "source": [
    "<div id='id3' > </div>\n",
    "\n",
    "<head>\n",
    "     <meta http-equiv=\"Content-Type\"content=\"text/html\"charset=\"utf-8\">\n",
    "     <link href=\"./css_estilos/estilo_01.css\"rel=\"stylesheet\"type=\"text/css\"> \n",
    "</head>\n",
    "<body>\n",
    "     <h1> <b> Imoportación de la Librerías Requeridas </b> <br> </h1>\n",
    "</body>"
   ]
  },
  {
   "cell_type": "code",
   "execution_count": 57,
   "metadata": {},
   "outputs": [],
   "source": [
    "# Importamos las librerias necesarias\n",
    "import pandas as pd"
   ]
  },
  {
   "cell_type": "markdown",
   "metadata": {},
   "source": [
    "---"
   ]
  },
  {
   "cell_type": "markdown",
   "metadata": {},
   "source": [
    "<div id='id5' > </div>\n",
    "\n",
    "<head>\n",
    "     <meta http-equiv=\"Content-Type\"content=\"text/html\"charset=\"utf-8\">\n",
    "     <link href=\"./css_estilos/estilo_01.css\"rel=\"stylesheet\"type=\"text/css\"> \n",
    "</head>\n",
    "<body>\n",
    "     <h1> <b> Carga de los Datos en Dataframes </b> <br> </h1>\n",
    "</body>"
   ]
  },
  {
   "cell_type": "code",
   "execution_count": 58,
   "metadata": {},
   "outputs": [],
   "source": [
    "# Instanciamos los dataframes\n",
    "\"\"\"Facultad Latinoamericana de Ciencias Sociales\"\"\"\n",
    "file_path01 = \"./data/files/lat_social_uni/2022-09/lat_social_uni-04-09-2022.csv\"\n",
    "sep01 = \",\"\n",
    "enc01 = \"utf-8\"\n",
    "df01 = pd.read_csv(filepath_or_buffer=file_path01,\n",
    "                   sep=sep01,\n",
    "                   encoding=enc01)\n",
    "\n",
    "\"\"\"Universidad Argentina John Fitzgerald Kennedy\"\"\"\n",
    "file_path02 = \"./data/files/jfk_uni/2022-09/jfk_uni-04-09-2022.csv\"\n",
    "sep02 = \",\"\n",
    "enc02 = \"utf-8\"\n",
    "df02 = pd.read_csv(filepath_or_buffer=file_path02,\n",
    "                   sep=sep02,\n",
    "                   encoding=enc02)\n",
    "\n",
    "\"\"\"Código postal\"\"\"\n",
    "file_path03 = \"./data/files/codigos_postales.csv\"\n",
    "sep03 = \",\"\n",
    "enc03 = \"utf-8\"\n",
    "df03 = pd.read_csv(filepath_or_buffer = file_path03, \n",
    "                 sep = sep03, \n",
    "                 encoding = enc03)"
   ]
  },
  {
   "cell_type": "markdown",
   "metadata": {},
   "source": [
    "---"
   ]
  },
  {
   "cell_type": "markdown",
   "metadata": {},
   "source": [
    "<div id='id6' > </div>\n",
    "\n",
    "<head>\n",
    "     <meta http-equiv=\"Content-Type\"content=\"text/html\"charset=\"utf-8\">\n",
    "     <link href=\"./css_estilos/estilo_01.css\"rel=\"stylesheet\"type=\"text/css\"> \n",
    "</head>\n",
    "<body>\n",
    "     <h2> <b> Fuente de Datos</b>: FLACSO </h2>\n",
    "</body>"
   ]
  },
  {
   "cell_type": "code",
   "execution_count": null,
   "metadata": {},
   "outputs": [],
   "source": [
    "# Visualizamos preliminarmente el dataframe\n",
    "df01.head()"
   ]
  },
  {
   "cell_type": "markdown",
   "metadata": {},
   "source": [
    "<head>\n",
    "     <meta http-equiv=\"Content-Type\"content=\"text/html\"charset=\"utf-8\">\n",
    "     <link href=\"./css_estilos/estilo_01.css\"rel=\"stylesheet\"type=\"text/css\"> \n",
    "</head>\n",
    "<body>\n",
    "     <h3> <b> Identificación de los Tipos de Datos </b> </h3>\n",
    "</body>"
   ]
  },
  {
   "cell_type": "code",
   "execution_count": null,
   "metadata": {},
   "outputs": [],
   "source": [
    "# Visualizamos las columnas del dataframe y sus tipos de datos\n",
    "df01.info()"
   ]
  },
  {
   "cell_type": "markdown",
   "metadata": {},
   "source": [
    "<head>\n",
    "     <meta http-equiv=\"Content-Type\"content=\"text/html\"charset=\"utf-8\">\n",
    "     <link href=\"./css_estilos/estilo_01.css\"rel=\"stylesheet\"type=\"text/css\"> \n",
    "</head>\n",
    "<body>\n",
    "     <h3> <b> Transformación de los Features </b> </h3>\n",
    "</body>"
   ]
  },
  {
   "cell_type": "code",
   "execution_count": null,
   "metadata": {},
   "outputs": [],
   "source": [
    "# university: str minúsculas, sin espacios extras, ni guiones\n",
    "df01[\"university\"] = df01[\"university\"].str.lower()\n",
    "df01[\"university\"] = df01[\"university\"].str.replace(pat = \"-\",\n",
    "                                                    repl = \" \")"
   ]
  },
  {
   "cell_type": "code",
   "execution_count": null,
   "metadata": {},
   "outputs": [],
   "source": [
    "# career: str minúsculas, sin espacios extras, ni guiones\n",
    "df01[\"career\"] = df01[\"career\"].str.lower()\n",
    "df01[\"career\"] = df01[\"career\"].str.replace(pat = \"-\",\n",
    "                                            repl = \" \")"
   ]
  },
  {
   "cell_type": "code",
   "execution_count": null,
   "metadata": {},
   "outputs": [],
   "source": [
    "# inscription_date:  str %Y-%m-%d format\n",
    "df01[\"inscription_date\"] = pd.to_datetime(df01.inscription_date, \n",
    "                                          format='%Y-%m-%d')"
   ]
  },
  {
   "cell_type": "code",
   "execution_count": null,
   "metadata": {},
   "outputs": [],
   "source": [
    "# first_name: str minúscula y sin espacios, ni guiones\n",
    "df01[\"first_name\"] = df01[\"first_name\"].str.lower()\n",
    "df01[\"first_name\"] = df01[\"first_name\"].str.replace(pat = \"-\",\n",
    "                                                    repl = \" \")"
   ]
  },
  {
   "cell_type": "code",
   "execution_count": null,
   "metadata": {},
   "outputs": [],
   "source": [
    "# last_name: str minúscula y sin espacios, ni guiones\n",
    "df01[\"last_name\"] = df01[\"first_name\"].str.lower()\n",
    "df01[\"last_name\"] = df01[\"last_name\"].str.replace(pat = \"-\",\n",
    "                                                  repl = \" \")"
   ]
  },
  {
   "cell_type": "code",
   "execution_count": null,
   "metadata": {},
   "outputs": [],
   "source": [
    "# gender: str choice(male, female)\n",
    "## gender M a memale \n",
    "df01[\"gender\"].loc[df01[\"gender\"] == \"M\"] = \"male\"\n",
    "## gender F a female \n",
    "df01[\"gender\"].loc[df01[\"gender\"] == \"F\"] = \"female\""
   ]
  },
  {
   "cell_type": "code",
   "execution_count": null,
   "metadata": {},
   "outputs": [],
   "source": [
    "# age: int\n",
    "df01[\"age\"] = df01[\"age\"].str.replace(pat = \"days\", \n",
    "                                      repl = \"\").astype(\"int\")\n",
    "df01[\"age\"] = (df01[\"age\"] / (365)).astype(dtype = \"int\")"
   ]
  },
  {
   "cell_type": "code",
   "execution_count": null,
   "metadata": {},
   "outputs": [],
   "source": [
    "\"\"\"Facultad Latinoamericana de Ciencias Sociales\"\"\"\n",
    "# postal_code: str\n",
    "renamed_columns = {\n",
    "                    \"localidad\":\"location\"\n",
    "                    }\n",
    "\n",
    "df03.rename(columns = renamed_columns, \n",
    "            inplace = True)\n",
    "\n",
    "# Reemplazamos los guiones por espacios\n",
    "df01[\"location\"] = df01[\"location\"].str.replace(pat = \"-\",\n",
    "                                                repl = \" \")\n",
    "\n",
    "# Mergeamos los df's\n",
    "lft = df01\n",
    "rght = df03\n",
    "join = \"inner\"\n",
    "column_name = \"location\"\n",
    "\n",
    "df01 = pd.merge(left = lft, \n",
    "                right = rght, \n",
    "                how = join, \n",
    "                on = column_name)\n",
    "\n",
    "# Reordenamos las columnas del df meregeado\n",
    "columns = [\n",
    "            \"university\", \n",
    "            \"career\", \n",
    "            \"inscription_date\", \n",
    "            \"first_name\", \n",
    "            \"last_name\", \n",
    "            \"gender\", \n",
    "            \"age\", \n",
    "            \"codigo_postal\", \n",
    "            \"location\", \n",
    "            \"email\"\n",
    "            ]\n",
    "\n",
    "df01 = df01.reindex(columns = columns)\n",
    "\n",
    "# Renombramos las columnas de df mergeado\n",
    "renamed_columns = {\n",
    "                    \"codigo_postal\":\"postal_code\"\n",
    "                    }\n",
    "df01.rename(columns = renamed_columns, inplace = True)\n",
    "df01[\"postal_code\"] = df01[\"postal_code\"].astype(dtype = \"int\")\n",
    "\n",
    "# Location: str minúscula sin espacios extras, ni guiones\n",
    "df01[\"location\"] = df01[\"location\"].str.lower()"
   ]
  },
  {
   "cell_type": "code",
   "execution_count": null,
   "metadata": {},
   "outputs": [],
   "source": [
    "# Email: str minúsculas, sin espacios extras, ni guiones\n",
    "df01[\"email\"] = df01[\"email\"].str.lower()"
   ]
  },
  {
   "cell_type": "code",
   "execution_count": null,
   "metadata": {},
   "outputs": [],
   "source": [
    "# Visualizamos preliminarmente el dataframe\n",
    "df01.head(70)"
   ]
  },
  {
   "cell_type": "markdown",
   "metadata": {},
   "source": [
    "---"
   ]
  },
  {
   "cell_type": "markdown",
   "metadata": {},
   "source": [
    "<div id='id6' > </div>\n",
    "\n",
    "<head>\n",
    "     <meta http-equiv=\"Content-Type\"content=\"text/html\"charset=\"utf-8\">\n",
    "     <link href=\"./css_estilos/estilo_01.css\"rel=\"stylesheet\"type=\"text/css\"> \n",
    "</head>\n",
    "<body>\n",
    "     <h2> <b> Fuente de Datos</b>: UK </h2>\n",
    "</body>"
   ]
  },
  {
   "cell_type": "code",
   "execution_count": 59,
   "metadata": {},
   "outputs": [
    {
     "data": {
      "text/html": [
       "<div>\n",
       "<style scoped>\n",
       "    .dataframe tbody tr th:only-of-type {\n",
       "        vertical-align: middle;\n",
       "    }\n",
       "\n",
       "    .dataframe tbody tr th {\n",
       "        vertical-align: top;\n",
       "    }\n",
       "\n",
       "    .dataframe thead th {\n",
       "        text-align: right;\n",
       "    }\n",
       "</style>\n",
       "<table border=\"1\" class=\"dataframe\">\n",
       "  <thead>\n",
       "    <tr style=\"text-align: right;\">\n",
       "      <th></th>\n",
       "      <th>university</th>\n",
       "      <th>career</th>\n",
       "      <th>inscription_date</th>\n",
       "      <th>first_name</th>\n",
       "      <th>last_name</th>\n",
       "      <th>gender</th>\n",
       "      <th>age</th>\n",
       "      <th>postal_code</th>\n",
       "      <th>location</th>\n",
       "      <th>email</th>\n",
       "    </tr>\n",
       "  </thead>\n",
       "  <tbody>\n",
       "    <tr>\n",
       "      <th>0</th>\n",
       "      <td>universidad-j.-f.-kennedy</td>\n",
       "      <td>ingeniería-mecánica</td>\n",
       "      <td>2021-01-19</td>\n",
       "      <td>nancy</td>\n",
       "      <td>underwood</td>\n",
       "      <td>f</td>\n",
       "      <td>16889 days</td>\n",
       "      <td>4139</td>\n",
       "      <td>2173-joanne-groves\\nmartinland,-ri-40658</td>\n",
       "      <td>mcdonaldjulia@yahoo.com</td>\n",
       "    </tr>\n",
       "    <tr>\n",
       "      <th>1</th>\n",
       "      <td>universidad-j.-f.-kennedy</td>\n",
       "      <td>actuario-</td>\n",
       "      <td>2020-10-15</td>\n",
       "      <td>james</td>\n",
       "      <td>kelly</td>\n",
       "      <td>m</td>\n",
       "      <td>-16858 days</td>\n",
       "      <td>3176</td>\n",
       "      <td>312-powers-rapids-apt.-557\\ngreenfort,-ks-38676</td>\n",
       "      <td>contrerasstephen@yahoo.com</td>\n",
       "    </tr>\n",
       "    <tr>\n",
       "      <th>2</th>\n",
       "      <td>universidad-j.-f.-kennedy</td>\n",
       "      <td>diseño-de-imagen-y-sonido</td>\n",
       "      <td>2021-01-22</td>\n",
       "      <td>jaime</td>\n",
       "      <td>crawford</td>\n",
       "      <td>f</td>\n",
       "      <td>16740 days</td>\n",
       "      <td>7612</td>\n",
       "      <td>98306-kevin-port-suite-279\\nnew-denisemouth,-o...</td>\n",
       "      <td>martin59@yahoo.com</td>\n",
       "    </tr>\n",
       "    <tr>\n",
       "      <th>3</th>\n",
       "      <td>universidad-j.-f.-kennedy</td>\n",
       "      <td>actuario-</td>\n",
       "      <td>2020-10-06</td>\n",
       "      <td>matthew</td>\n",
       "      <td>ballard</td>\n",
       "      <td>m</td>\n",
       "      <td>1312 days</td>\n",
       "      <td>7401</td>\n",
       "      <td>unit-5743-box-5761\\ndpo-ae-17758</td>\n",
       "      <td>jamesguerra@yahoo.com</td>\n",
       "    </tr>\n",
       "    <tr>\n",
       "      <th>4</th>\n",
       "      <td>universidad-j.-f.-kennedy</td>\n",
       "      <td>arquitectura</td>\n",
       "      <td>2020-10-19</td>\n",
       "      <td>tiffany</td>\n",
       "      <td>harris</td>\n",
       "      <td>f</td>\n",
       "      <td>-10206 days</td>\n",
       "      <td>5471</td>\n",
       "      <td>04779-sharon-extension\\nchristophermouth,-mo-3...</td>\n",
       "      <td>simmonsderek@yahoo.com</td>\n",
       "    </tr>\n",
       "  </tbody>\n",
       "</table>\n",
       "</div>"
      ],
      "text/plain": [
       "                  university                     career inscription_date  \\\n",
       "0  universidad-j.-f.-kennedy        ingeniería-mecánica       2021-01-19   \n",
       "1  universidad-j.-f.-kennedy                  actuario-       2020-10-15   \n",
       "2  universidad-j.-f.-kennedy  diseño-de-imagen-y-sonido       2021-01-22   \n",
       "3  universidad-j.-f.-kennedy                  actuario-       2020-10-06   \n",
       "4  universidad-j.-f.-kennedy               arquitectura       2020-10-19   \n",
       "\n",
       "  first_name  last_name gender          age  postal_code  \\\n",
       "0      nancy  underwood      f   16889 days         4139   \n",
       "1      james      kelly      m  -16858 days         3176   \n",
       "2      jaime   crawford      f   16740 days         7612   \n",
       "3    matthew    ballard      m    1312 days         7401   \n",
       "4    tiffany     harris      f  -10206 days         5471   \n",
       "\n",
       "                                            location  \\\n",
       "0           2173-joanne-groves\\nmartinland,-ri-40658   \n",
       "1    312-powers-rapids-apt.-557\\ngreenfort,-ks-38676   \n",
       "2  98306-kevin-port-suite-279\\nnew-denisemouth,-o...   \n",
       "3                   unit-5743-box-5761\\ndpo-ae-17758   \n",
       "4  04779-sharon-extension\\nchristophermouth,-mo-3...   \n",
       "\n",
       "                        email  \n",
       "0     mcdonaldjulia@yahoo.com  \n",
       "1  contrerasstephen@yahoo.com  \n",
       "2          martin59@yahoo.com  \n",
       "3       jamesguerra@yahoo.com  \n",
       "4      simmonsderek@yahoo.com  "
      ]
     },
     "execution_count": 59,
     "metadata": {},
     "output_type": "execute_result"
    }
   ],
   "source": [
    "# Visualizamos preliminarmente el dataframe\n",
    "df02.head()"
   ]
  },
  {
   "cell_type": "markdown",
   "metadata": {},
   "source": [
    "<head>\n",
    "     <meta http-equiv=\"Content-Type\"content=\"text/html\"charset=\"utf-8\">\n",
    "     <link href=\"./css_estilos/estilo_01.css\"rel=\"stylesheet\"type=\"text/css\"> \n",
    "</head>\n",
    "<body>\n",
    "     <h3> <b> Identificación de los Tipos de Datos </b> </h3>\n",
    "</body>"
   ]
  },
  {
   "cell_type": "code",
   "execution_count": 60,
   "metadata": {},
   "outputs": [
    {
     "name": "stdout",
     "output_type": "stream",
     "text": [
      "<class 'pandas.core.frame.DataFrame'>\n",
      "RangeIndex: 1816 entries, 0 to 1815\n",
      "Data columns (total 10 columns):\n",
      " #   Column            Non-Null Count  Dtype \n",
      "---  ------            --------------  ----- \n",
      " 0   university        1816 non-null   object\n",
      " 1   career            1816 non-null   object\n",
      " 2   inscription_date  1816 non-null   object\n",
      " 3   first_name        1816 non-null   object\n",
      " 4   last_name         1816 non-null   object\n",
      " 5   gender            1816 non-null   object\n",
      " 6   age               1816 non-null   object\n",
      " 7   postal_code       1816 non-null   int64 \n",
      " 8   location          1816 non-null   object\n",
      " 9   email             1816 non-null   object\n",
      "dtypes: int64(1), object(9)\n",
      "memory usage: 142.0+ KB\n"
     ]
    }
   ],
   "source": [
    "# Visualizamos las columnas del dataframe y sus tipos de datos\n",
    "df02.info()"
   ]
  },
  {
   "cell_type": "markdown",
   "metadata": {},
   "source": [
    "<head>\n",
    "     <meta http-equiv=\"Content-Type\"content=\"text/html\"charset=\"utf-8\">\n",
    "     <link href=\"./css_estilos/estilo_01.css\"rel=\"stylesheet\"type=\"text/css\"> \n",
    "</head>\n",
    "<body>\n",
    "     <h3> <b> Transformación de los Features </b> </h3>\n",
    "</body>"
   ]
  },
  {
   "cell_type": "code",
   "execution_count": 61,
   "metadata": {},
   "outputs": [],
   "source": [
    "# university: str minúsculas, sin espacios extras, ni guiones\n",
    "df02[\"university\"] = df02[\"university\"].str.lower()\n",
    "df02[\"university\"] = df02[\"university\"].str.replace(pat = \"-\",\n",
    "                                                    repl = \" \")"
   ]
  },
  {
   "cell_type": "code",
   "execution_count": 62,
   "metadata": {},
   "outputs": [],
   "source": [
    "# career: str minúsculas, sin espacios extras, ni guiones\n",
    "df02[\"career\"] = df02[\"career\"].str.lower()\n",
    "df02[\"career\"] = df02[\"career\"].str.replace(pat = \"-\",\n",
    "                                            repl = \" \")"
   ]
  },
  {
   "cell_type": "code",
   "execution_count": 63,
   "metadata": {},
   "outputs": [],
   "source": [
    "# inscription_date:  str %Y-%m-%d format\n",
    "df02[\"inscription_date\"] = pd.to_datetime(df02.inscription_date, \n",
    "                                          format='%Y-%m-%d')"
   ]
  },
  {
   "cell_type": "code",
   "execution_count": 64,
   "metadata": {},
   "outputs": [],
   "source": [
    "# first_name: str minúscula y sin espacios, ni guiones\n",
    "df02[\"first_name\"] = df02[\"first_name\"].str.lower()\n",
    "df02[\"first_name\"] = df02[\"first_name\"].str.replace(pat = \"-\",\n",
    "                                                    repl = \" \")"
   ]
  },
  {
   "cell_type": "code",
   "execution_count": 65,
   "metadata": {},
   "outputs": [],
   "source": [
    "# last_name: str minúscula y sin espacios, ni guiones\n",
    "df02[\"last_name\"] = df02[\"first_name\"].str.lower()\n",
    "df02[\"last_name\"] = df02[\"last_name\"].str.replace(pat = \"-\",\n",
    "                                                  repl = \" \")"
   ]
  },
  {
   "cell_type": "code",
   "execution_count": 66,
   "metadata": {},
   "outputs": [
    {
     "name": "stderr",
     "output_type": "stream",
     "text": [
      "/tmp/ipykernel_8103/3469563729.py:3: SettingWithCopyWarning: \n",
      "A value is trying to be set on a copy of a slice from a DataFrame\n",
      "\n",
      "See the caveats in the documentation: https://pandas.pydata.org/pandas-docs/stable/user_guide/indexing.html#returning-a-view-versus-a-copy\n",
      "  df02[\"gender\"].loc[df02[\"gender\"] == \"m\"] = \"male\"\n",
      "/tmp/ipykernel_8103/3469563729.py:5: SettingWithCopyWarning: \n",
      "A value is trying to be set on a copy of a slice from a DataFrame\n",
      "\n",
      "See the caveats in the documentation: https://pandas.pydata.org/pandas-docs/stable/user_guide/indexing.html#returning-a-view-versus-a-copy\n",
      "  df02[\"gender\"].loc[df02[\"gender\"] == \"f\"] = \"female\"\n"
     ]
    }
   ],
   "source": [
    "# gender: str choice(male, female)\n",
    "## gender m a memale \n",
    "df02[\"gender\"].loc[df02[\"gender\"] == \"m\"] = \"male\"\n",
    "## gender f a female \n",
    "df02[\"gender\"].loc[df02[\"gender\"] == \"f\"] = \"female\""
   ]
  },
  {
   "cell_type": "code",
   "execution_count": 67,
   "metadata": {},
   "outputs": [],
   "source": [
    "# age: int\n",
    "df02[\"age\"] = df02[\"age\"].str.replace(pat = \"days\", \n",
    "                                      repl = \"\").astype(\"int\")\n",
    "df02[\"age\"] = (df02[\"age\"] / (365)).astype(dtype = \"int\")"
   ]
  },
  {
   "cell_type": "code",
   "execution_count": 68,
   "metadata": {},
   "outputs": [],
   "source": [
    "\"\"\"Universidad Argentina John Fitzgerald Kennedy\"\"\"\n",
    "# postal_code: str\n",
    "# Renombramos la columna de df02, para que exista coincidencia al hacer hacer \"merge\"\n",
    "\n",
    "renamed_columns = {\n",
    "                    \"codigo_postal\":\"postal_code\"\n",
    "                    }\n",
    "df03.rename(columns = renamed_columns, \n",
    "            inplace = True)\n",
    "\n",
    "# Mergeamos los df's\n",
    "lft = df02\n",
    "rght = df03\n",
    "join = \"inner\"\n",
    "column_name = \"postal_code\"\n",
    "\n",
    "df02 = pd.merge(left = lft, \n",
    "                right = rght, \n",
    "                how = join, \n",
    "                on = column_name)\n",
    "\n",
    "# Reordenamos las columnas del df meregeado\n",
    "columns = [\n",
    "            \"university\", \n",
    "            \"career\", \n",
    "            \"inscription_date\", \n",
    "            \"first_name\", \n",
    "            \"last_name\", \n",
    "            \"gender\", \n",
    "            \"age\", \n",
    "            \"postal_code\", \n",
    "            \"localidad\", \n",
    "            \"email\"\n",
    "            ]\n",
    "\n",
    "df02 = df02.reindex(columns = columns)\n",
    "\n",
    "# Renombramos las columnas de df mergeado\n",
    "renamed_columns = {\n",
    "                    \"localidad\":\"location\"\n",
    "                    }\n",
    "\n",
    "df02.rename(columns = renamed_columns, inplace = True)\n",
    "df02[\"postal_code\"] = df02[\"postal_code\"].astype(dtype = \"int\")\n",
    "\n",
    "# location: str minúscula sin espacios extras, ni guiones\n",
    "df02[\"location\"] = df02[\"location\"].str.lower()"
   ]
  },
  {
   "cell_type": "code",
   "execution_count": 69,
   "metadata": {},
   "outputs": [],
   "source": [
    "# email: str minúsculas, sin espacios extras, ni guiones\n",
    "df02[\"email\"] = df02[\"email\"].str.lower()"
   ]
  },
  {
   "cell_type": "code",
   "execution_count": 70,
   "metadata": {},
   "outputs": [
    {
     "data": {
      "text/html": [
       "<div>\n",
       "<style scoped>\n",
       "    .dataframe tbody tr th:only-of-type {\n",
       "        vertical-align: middle;\n",
       "    }\n",
       "\n",
       "    .dataframe tbody tr th {\n",
       "        vertical-align: top;\n",
       "    }\n",
       "\n",
       "    .dataframe thead th {\n",
       "        text-align: right;\n",
       "    }\n",
       "</style>\n",
       "<table border=\"1\" class=\"dataframe\">\n",
       "  <thead>\n",
       "    <tr style=\"text-align: right;\">\n",
       "      <th></th>\n",
       "      <th>university</th>\n",
       "      <th>career</th>\n",
       "      <th>inscription_date</th>\n",
       "      <th>first_name</th>\n",
       "      <th>last_name</th>\n",
       "      <th>gender</th>\n",
       "      <th>age</th>\n",
       "      <th>postal_code</th>\n",
       "      <th>location</th>\n",
       "      <th>email</th>\n",
       "    </tr>\n",
       "  </thead>\n",
       "  <tbody>\n",
       "    <tr>\n",
       "      <th>0</th>\n",
       "      <td>universidad j. f. kennedy</td>\n",
       "      <td>ingeniería mecánica</td>\n",
       "      <td>2021-01-19</td>\n",
       "      <td>nancy</td>\n",
       "      <td>nancy</td>\n",
       "      <td>female</td>\n",
       "      <td>46</td>\n",
       "      <td>4139</td>\n",
       "      <td>agua amarilla la hoyada</td>\n",
       "      <td>mcdonaldjulia@yahoo.com</td>\n",
       "    </tr>\n",
       "    <tr>\n",
       "      <th>1</th>\n",
       "      <td>universidad j. f. kennedy</td>\n",
       "      <td>licenciatura en ciencias de la educación</td>\n",
       "      <td>2020-12-29</td>\n",
       "      <td>janet</td>\n",
       "      <td>janet</td>\n",
       "      <td>female</td>\n",
       "      <td>29</td>\n",
       "      <td>4139</td>\n",
       "      <td>agua amarilla la hoyada</td>\n",
       "      <td>amber49@yahoo.com</td>\n",
       "    </tr>\n",
       "    <tr>\n",
       "      <th>2</th>\n",
       "      <td>universidad j. f. kennedy</td>\n",
       "      <td>licenciatura en ciencias biológicas</td>\n",
       "      <td>2020-12-15</td>\n",
       "      <td>elizabeth</td>\n",
       "      <td>elizabeth</td>\n",
       "      <td>female</td>\n",
       "      <td>22</td>\n",
       "      <td>4139</td>\n",
       "      <td>agua amarilla la hoyada</td>\n",
       "      <td>kellyrobbins@gmail.com</td>\n",
       "    </tr>\n",
       "    <tr>\n",
       "      <th>3</th>\n",
       "      <td>universidad j. f. kennedy</td>\n",
       "      <td>licenciatura en administración</td>\n",
       "      <td>2021-01-29</td>\n",
       "      <td>taylor</td>\n",
       "      <td>taylor</td>\n",
       "      <td>female</td>\n",
       "      <td>22</td>\n",
       "      <td>4139</td>\n",
       "      <td>agua amarilla la hoyada</td>\n",
       "      <td>gonzalesdavid@yahoo.com</td>\n",
       "    </tr>\n",
       "    <tr>\n",
       "      <th>4</th>\n",
       "      <td>universidad j. f. kennedy</td>\n",
       "      <td>ingeniería mecánica</td>\n",
       "      <td>2020-12-21</td>\n",
       "      <td>danielle</td>\n",
       "      <td>danielle</td>\n",
       "      <td>female</td>\n",
       "      <td>47</td>\n",
       "      <td>4139</td>\n",
       "      <td>agua amarilla la hoyada</td>\n",
       "      <td>daniel46@hotmail.com</td>\n",
       "    </tr>\n",
       "    <tr>\n",
       "      <th>...</th>\n",
       "      <td>...</td>\n",
       "      <td>...</td>\n",
       "      <td>...</td>\n",
       "      <td>...</td>\n",
       "      <td>...</td>\n",
       "      <td>...</td>\n",
       "      <td>...</td>\n",
       "      <td>...</td>\n",
       "      <td>...</td>\n",
       "      <td>...</td>\n",
       "    </tr>\n",
       "    <tr>\n",
       "      <th>65</th>\n",
       "      <td>universidad j. f. kennedy</td>\n",
       "      <td>diseño industrial</td>\n",
       "      <td>2021-01-25</td>\n",
       "      <td>randy</td>\n",
       "      <td>randy</td>\n",
       "      <td>male</td>\n",
       "      <td>44</td>\n",
       "      <td>8520</td>\n",
       "      <td>aguada del loro</td>\n",
       "      <td>terrilewis@hotmail.com</td>\n",
       "    </tr>\n",
       "    <tr>\n",
       "      <th>66</th>\n",
       "      <td>universidad j. f. kennedy</td>\n",
       "      <td>farmacia</td>\n",
       "      <td>2020-09-30</td>\n",
       "      <td>joseph</td>\n",
       "      <td>joseph</td>\n",
       "      <td>male</td>\n",
       "      <td>-21</td>\n",
       "      <td>1838</td>\n",
       "      <td>luis guillon</td>\n",
       "      <td>xcampbell@yahoo.com</td>\n",
       "    </tr>\n",
       "    <tr>\n",
       "      <th>67</th>\n",
       "      <td>universidad j. f. kennedy</td>\n",
       "      <td>técnico para bioterios</td>\n",
       "      <td>2020-11-07</td>\n",
       "      <td>kevin</td>\n",
       "      <td>kevin</td>\n",
       "      <td>male</td>\n",
       "      <td>-20</td>\n",
       "      <td>1838</td>\n",
       "      <td>luis guillon</td>\n",
       "      <td>pdaniels@yahoo.com</td>\n",
       "    </tr>\n",
       "    <tr>\n",
       "      <th>68</th>\n",
       "      <td>universidad j. f. kennedy</td>\n",
       "      <td>diseño de imagen y sonido</td>\n",
       "      <td>2020-09-27</td>\n",
       "      <td>steven</td>\n",
       "      <td>steven</td>\n",
       "      <td>male</td>\n",
       "      <td>25</td>\n",
       "      <td>5313</td>\n",
       "      <td>estacion mazan</td>\n",
       "      <td>kirbymatthew@hotmail.com</td>\n",
       "    </tr>\n",
       "    <tr>\n",
       "      <th>69</th>\n",
       "      <td>universidad j. f. kennedy</td>\n",
       "      <td>licenciatura en administración</td>\n",
       "      <td>2020-12-20</td>\n",
       "      <td>jane</td>\n",
       "      <td>jane</td>\n",
       "      <td>female</td>\n",
       "      <td>2</td>\n",
       "      <td>5575</td>\n",
       "      <td>andrade</td>\n",
       "      <td>jeremy05@yahoo.com</td>\n",
       "    </tr>\n",
       "  </tbody>\n",
       "</table>\n",
       "<p>70 rows × 10 columns</p>\n",
       "</div>"
      ],
      "text/plain": [
       "                   university                                     career  \\\n",
       "0   universidad j. f. kennedy                        ingeniería mecánica   \n",
       "1   universidad j. f. kennedy  licenciatura en ciencias de la educación    \n",
       "2   universidad j. f. kennedy        licenciatura en ciencias biológicas   \n",
       "3   universidad j. f. kennedy            licenciatura en administración    \n",
       "4   universidad j. f. kennedy                        ingeniería mecánica   \n",
       "..                        ...                                        ...   \n",
       "65  universidad j. f. kennedy                          diseño industrial   \n",
       "66  universidad j. f. kennedy                                   farmacia   \n",
       "67  universidad j. f. kennedy                    técnico para bioterios    \n",
       "68  universidad j. f. kennedy                  diseño de imagen y sonido   \n",
       "69  universidad j. f. kennedy            licenciatura en administración    \n",
       "\n",
       "   inscription_date first_name  last_name  gender  age  postal_code  \\\n",
       "0        2021-01-19      nancy      nancy  female   46         4139   \n",
       "1        2020-12-29      janet      janet  female   29         4139   \n",
       "2        2020-12-15  elizabeth  elizabeth  female   22         4139   \n",
       "3        2021-01-29     taylor     taylor  female   22         4139   \n",
       "4        2020-12-21   danielle   danielle  female   47         4139   \n",
       "..              ...        ...        ...     ...  ...          ...   \n",
       "65       2021-01-25      randy      randy    male   44         8520   \n",
       "66       2020-09-30     joseph     joseph    male  -21         1838   \n",
       "67       2020-11-07      kevin      kevin    male  -20         1838   \n",
       "68       2020-09-27     steven     steven    male   25         5313   \n",
       "69       2020-12-20       jane       jane  female    2         5575   \n",
       "\n",
       "                   location                     email  \n",
       "0   agua amarilla la hoyada   mcdonaldjulia@yahoo.com  \n",
       "1   agua amarilla la hoyada         amber49@yahoo.com  \n",
       "2   agua amarilla la hoyada    kellyrobbins@gmail.com  \n",
       "3   agua amarilla la hoyada   gonzalesdavid@yahoo.com  \n",
       "4   agua amarilla la hoyada      daniel46@hotmail.com  \n",
       "..                      ...                       ...  \n",
       "65          aguada del loro    terrilewis@hotmail.com  \n",
       "66             luis guillon       xcampbell@yahoo.com  \n",
       "67             luis guillon        pdaniels@yahoo.com  \n",
       "68           estacion mazan  kirbymatthew@hotmail.com  \n",
       "69                  andrade        jeremy05@yahoo.com  \n",
       "\n",
       "[70 rows x 10 columns]"
      ]
     },
     "execution_count": 70,
     "metadata": {},
     "output_type": "execute_result"
    }
   ],
   "source": [
    "# Visualizamos preliminarmente el dataframe\n",
    "df02.head(70)"
   ]
  },
  {
   "cell_type": "markdown",
   "metadata": {},
   "source": [
    "---"
   ]
  }
 ],
 "metadata": {
  "kernelspec": {
   "display_name": "Python 3.10.4 ('venv_eda')",
   "language": "python",
   "name": "python3"
  },
  "language_info": {
   "codemirror_mode": {
    "name": "ipython",
    "version": 3
   },
   "file_extension": ".py",
   "mimetype": "text/x-python",
   "name": "python",
   "nbconvert_exporter": "python",
   "pygments_lexer": "ipython3",
   "version": "3.10.4"
  },
  "orig_nbformat": 4,
  "vscode": {
   "interpreter": {
    "hash": "77779b91cb91cd4e8b008d9a753c6f9a6e340a03919eff8748717bfa857a0e0f"
   }
  }
 },
 "nbformat": 4,
 "nbformat_minor": 2
}
